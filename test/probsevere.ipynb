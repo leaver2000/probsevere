{
 "cells": [
  {
   "cell_type": "code",
   "execution_count": 24,
   "id": "e82aaba2",
   "metadata": {},
   "outputs": [],
   "source": [
    "import os\n",
    "from glob import glob\n",
    "import pandas as pd\n",
    "import cartopy.crs as ccrs\n",
    "import matplotlib.pyplot as plt\n",
    "from probsevere import ProbSevere\n",
    "IDX = pd.IndexSlice"
   ]
  },
  {
   "cell_type": "code",
   "execution_count": 22,
   "id": "4e1bb018",
   "metadata": {},
   "outputs": [],
   "source": [
    "paths = sorted(glob(os.path.join('../sample_data/', '*.json')))\n",
    "\n",
    "def load_probs():\n",
    "    with open(paths[0]) as feature_collection:\n",
    "        prob = ProbSevere(feature_collection)\n",
    "        \n",
    "    for path in paths[1:5]:\n",
    "        with open(path) as feature_collection:\n",
    "            prob.set_collection(feature_collection)\n",
    "\n",
    "    return prob\n",
    "\n",
    "\n",
    "ps = load_probs()"
   ]
  },
  {
   "cell_type": "code",
   "execution_count": 60,
   "metadata": {},
   "outputs": [
    {
     "data": {
      "text/plain": [
       "Parameters\n",
       "Azimuth                                                        90.0\n",
       "Distance                                                 874.974559\n",
       "GrowthRate                                                 0.085587\n",
       "Latitude                                                      38.28\n",
       "Longitude                                                    -95.99\n",
       "ReverseAzimuth    [226.46010773022172, 226.5572389134128, 226.65...\n",
       "Size                                                          586.0\n",
       "StormTrack        [[-95.98982610300659, 38.28013026073826], [-95...\n",
       "Velocity                                                   8.494899\n",
       "Name: 2021-10-11 00:08:38+00:00, dtype: object"
      ]
     },
     "execution_count": 60,
     "metadata": {},
     "output_type": "execute_result"
    }
   ],
   "source": [
    "ps.latest.loc['89234']"
   ]
  }
 ],
 "metadata": {
  "interpreter": {
   "hash": "e62b9ac1d921e0b39e6b3e0861379dcb04111a5b83023c19a288024a33003397"
  },
  "kernelspec": {
   "display_name": "Python 3.9.7 64-bit ('probsevere': conda)",
   "name": "python3"
  },
  "language_info": {
   "codemirror_mode": {
    "name": "ipython",
    "version": 3
   },
   "file_extension": ".py",
   "mimetype": "text/x-python",
   "name": "python",
   "nbconvert_exporter": "python",
   "pygments_lexer": "ipython3",
   "version": "3.9.7"
  }
 },
 "nbformat": 4,
 "nbformat_minor": 5
}
