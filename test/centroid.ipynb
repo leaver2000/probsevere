{
 "cells": [
  {
   "cell_type": "code",
   "execution_count": 25,
   "metadata": {},
   "outputs": [],
   "source": [
    "import numpy as np\n",
    "import re\n",
    "import  shapely.geometry as geom\n",
    "geometry = {\n",
    "     \"type\": \"Polygon\",\n",
    "     \"coordinates\":[[[-96.03,38.41],[-95.98,38.41],[-95.96,38.39],[-95.96,38.32],[-95.97,38.31],[-95.96,38.27],[-95.97,38.26],[-95.97,38.24],[-96.03,38.18],[-96.03,38.10],[-96.04,38.08],[-96.05,38.07],[-96.09,38.07],[-96.13,38.10],[-96.13,38.13],[-96.14,38.14],[-96.14,38.21],[-96.15,38.22],[-96.15,38.30],[-96.12,38.33],[-96.12,38.35],[-96.09,38.38],[-96.03,38.41]]]\n",
    "   }\n",
    "storm:geom.Polygon = geom.shape(geometry)\n",
    "def methods(key):\n",
    "    for x in np.array(dir(key)):\n",
    "        if  (re.match(r'__/.+__',x)):\n",
    "            print( dir(key))\n"
   ]
  },
  {
   "cell_type": "code",
   "execution_count": 10,
   "metadata": {},
   "outputs": [
    {
     "name": "stdout",
     "output_type": "stream",
     "text": [
      "<class 'shapely.geometry.point.Point'> ['__and__', '__array_interface__', '__bool__', '__class__', '__del__', '__delattr__', '__dict__', '__dir__', '__doc__', '__eq__', '__format__', '__ge__', '__geo_interface__', '__geom__', '__getattribute__', '__gt__', '__hash__', '__init__', '__init_subclass__', '__le__', '__lt__', '__module__', '__ne__', '__new__', '__nonzero__', '__or__', '__p__', '__reduce__', '__reduce_ex__', '__repr__', '__setattr__', '__setstate__', '__sizeof__', '__str__', '__sub__', '__subclasshook__', '__weakref__', '__xor__', '_crs', '_ctypes_data', '_geom', '_get_coords', '_is_empty', '_lgeos', '_ndim', '_other_owned', '_repr_svg_', '_set_coords', 'almost_equals', 'area', 'array_interface', 'array_interface_base', 'boundary', 'bounds', 'buffer', 'centroid', 'contains', 'convex_hull', 'coords', 'covers', 'crosses', 'ctypes', 'difference', 'disjoint', 'distance', 'empty', 'envelope', 'equals', 'equals_exact', 'geom_type', 'geometryType', 'has_z', 'hausdorff_distance', 'impl', 'interpolate', 'intersection', 'intersects', 'is_closed', 'is_empty', 'is_ring', 'is_simple', 'is_valid', 'length', 'minimum_clearance', 'minimum_rotated_rectangle', 'overlaps', 'project', 'relate', 'relate_pattern', 'representative_point', 'simplify', 'svg', 'symmetric_difference', 'to_wkb', 'to_wkt', 'touches', 'type', 'union', 'within', 'wkb', 'wkb_hex', 'wkt', 'x', 'xy', 'y', 'z']\n"
     ]
    }
   ],
   "source": [
    "centroid: geom.Point = s.centroid\n",
    "print(type(centroid),dir(centroid))"
   ]
  }
 ],
 "metadata": {
  "interpreter": {
   "hash": "eb44804f450df2849f3aefb3fef322f165196ad91bb4cd7515e9cf5bfa244e09"
  },
  "kernelspec": {
   "display_name": "Python 3.9.7 ('probsevere')",
   "language": "python",
   "name": "python3"
  },
  "language_info": {
   "codemirror_mode": {
    "name": "ipython",
    "version": 3
   },
   "file_extension": ".py",
   "mimetype": "text/x-python",
   "name": "python",
   "nbconvert_exporter": "python",
   "pygments_lexer": "ipython3",
   "version": "3.9.7"
  },
  "orig_nbformat": 4
 },
 "nbformat": 4,
 "nbformat_minor": 2
}
