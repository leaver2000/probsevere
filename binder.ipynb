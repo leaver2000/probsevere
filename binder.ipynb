{
 "cells": [
  {
   "cell_type": "code",
   "execution_count": 21,
   "source": [
    "import numpy as np\n",
    "import matplotlib.pyplot as plt\n",
    "from mpl_toolkits.basemap import Basemap\n",
    "from app import *"
   ],
   "outputs": [],
   "metadata": {}
  },
  {
   "cell_type": "code",
   "execution_count": 5,
   "source": [
    "#from app storm is reported, this app \n",
    "stm=storm[691240]\n",
    "latrange=[38,39.5]\n",
    "lonrange=[-80.5,-78]\n",
    "\n",
    "lon_0 = np.mean(lonrange)\n",
    "lat_0 = np.mean(latrange)\n",
    "m = Basemap(projection='merc',lon_0=lon_0, lat_0=lat_0, lat_ts=lat_0,\n",
    "            llcrnrlat=np.min(latrange), urcrnrlat=np.max(latrange),\n",
    "            llcrnrlon=np.min(lonrange), urcrnrlon=np.max(lonrange))\n"
   ],
   "outputs": [],
   "metadata": {}
  },
  {
   "cell_type": "code",
   "execution_count": 19,
   "source": [
    "crds = stm['coordinates']\n",
    "c =['b','m','g' ,'r']\n",
    "plt.figure(dpi=200)\n",
    "for i,crds in enumerate(stm['coordinates']):\n",
    "    lon0,lat0=np.rollaxis(np.array(crds), 2, 0)\n",
    "    x0,y0=m(lon0,lat0)\n",
    "    m.plot(*x0,*y0, marker=None,color=c[i])\n",
    "    stm_trk = stm['st_linear'][i]\n",
    "    lons, lats = np.rollaxis(np.array([stm_trk]), 2, 0)\n",
    "    x,y=m(lons,lats)\n",
    "    m.plot(x,y,marker=\".\",color=c[i])\n",
    "\n",
    "plt.show()"
   ],
   "outputs": [
    {
     "output_type": "error",
     "ename": "IndexError",
     "evalue": "list index out of range",
     "traceback": [
      "\u001b[0;31m---------------------------------------------------------------------------\u001b[0m",
      "\u001b[0;31mIndexError\u001b[0m                                Traceback (most recent call last)",
      "\u001b[0;32m/tmp/ipykernel_32346/2298999847.py\u001b[0m in \u001b[0;36m<module>\u001b[0;34m\u001b[0m\n\u001b[1;32m      5\u001b[0m     \u001b[0mlon0\u001b[0m\u001b[0;34m,\u001b[0m\u001b[0mlat0\u001b[0m\u001b[0;34m=\u001b[0m\u001b[0mnp\u001b[0m\u001b[0;34m.\u001b[0m\u001b[0mrollaxis\u001b[0m\u001b[0;34m(\u001b[0m\u001b[0mnp\u001b[0m\u001b[0;34m.\u001b[0m\u001b[0marray\u001b[0m\u001b[0;34m(\u001b[0m\u001b[0mcrds\u001b[0m\u001b[0;34m)\u001b[0m\u001b[0;34m,\u001b[0m \u001b[0;36m2\u001b[0m\u001b[0;34m,\u001b[0m \u001b[0;36m0\u001b[0m\u001b[0;34m)\u001b[0m\u001b[0;34m\u001b[0m\u001b[0;34m\u001b[0m\u001b[0m\n\u001b[1;32m      6\u001b[0m     \u001b[0mx0\u001b[0m\u001b[0;34m,\u001b[0m\u001b[0my0\u001b[0m\u001b[0;34m=\u001b[0m\u001b[0mm\u001b[0m\u001b[0;34m(\u001b[0m\u001b[0mlon0\u001b[0m\u001b[0;34m,\u001b[0m\u001b[0mlat0\u001b[0m\u001b[0;34m)\u001b[0m\u001b[0;34m\u001b[0m\u001b[0;34m\u001b[0m\u001b[0m\n\u001b[0;32m----> 7\u001b[0;31m     \u001b[0mm\u001b[0m\u001b[0;34m.\u001b[0m\u001b[0mplot\u001b[0m\u001b[0;34m(\u001b[0m\u001b[0;34m*\u001b[0m\u001b[0mx0\u001b[0m\u001b[0;34m,\u001b[0m\u001b[0;34m*\u001b[0m\u001b[0my0\u001b[0m\u001b[0;34m,\u001b[0m \u001b[0mmarker\u001b[0m\u001b[0;34m=\u001b[0m\u001b[0;32mNone\u001b[0m\u001b[0;34m,\u001b[0m\u001b[0mcolor\u001b[0m\u001b[0;34m=\u001b[0m\u001b[0mc\u001b[0m\u001b[0;34m[\u001b[0m\u001b[0mi\u001b[0m\u001b[0;34m]\u001b[0m\u001b[0;34m)\u001b[0m\u001b[0;34m\u001b[0m\u001b[0;34m\u001b[0m\u001b[0m\n\u001b[0m\u001b[1;32m      8\u001b[0m     \u001b[0mstm_trk\u001b[0m \u001b[0;34m=\u001b[0m \u001b[0mstm\u001b[0m\u001b[0;34m[\u001b[0m\u001b[0;34m'st_linear'\u001b[0m\u001b[0;34m]\u001b[0m\u001b[0;34m[\u001b[0m\u001b[0mi\u001b[0m\u001b[0;34m]\u001b[0m\u001b[0;34m\u001b[0m\u001b[0;34m\u001b[0m\u001b[0m\n\u001b[1;32m      9\u001b[0m     \u001b[0mlons\u001b[0m\u001b[0;34m,\u001b[0m \u001b[0mlats\u001b[0m \u001b[0;34m=\u001b[0m \u001b[0mnp\u001b[0m\u001b[0;34m.\u001b[0m\u001b[0mrollaxis\u001b[0m\u001b[0;34m(\u001b[0m\u001b[0mnp\u001b[0m\u001b[0;34m.\u001b[0m\u001b[0marray\u001b[0m\u001b[0;34m(\u001b[0m\u001b[0;34m[\u001b[0m\u001b[0mstm_trk\u001b[0m\u001b[0;34m]\u001b[0m\u001b[0;34m)\u001b[0m\u001b[0;34m,\u001b[0m \u001b[0;36m2\u001b[0m\u001b[0;34m,\u001b[0m \u001b[0;36m0\u001b[0m\u001b[0;34m)\u001b[0m\u001b[0;34m\u001b[0m\u001b[0;34m\u001b[0m\u001b[0m\n",
      "\u001b[0;31mIndexError\u001b[0m: list index out of range"
     ]
    },
    {
     "output_type": "display_data",
     "data": {
      "image/png": "[encoded data removed]",
      "text/plain": [
       "<Figure size 1200x800 with 1 Axes>"
      ]
     },
     "metadata": {}
    }
   ],
   "metadata": {}
  },
  {
   "cell_type": "code",
   "execution_count": 6,
   "source": [
    "\n",
    "\n",
    "\n",
    "crds = stm['coordinates'][0]\n",
    "\n",
    "print(crds)\n",
    "lon0,lat0=np.rollaxis(np.array(crds), 2, 0)\n",
    "x0,y0=m(lon0,lat0)\n",
    "m.plot(*x0,*y0, marker=None,color='b')\n",
    "\n",
    "\n",
    "\n",
    "stm_trk = stm['st_linear'][0]\n",
    "\n",
    "\n",
    "lons, lats = np.rollaxis(np.array([stm_trk]), 2, 0)\n",
    "\n",
    "x,y=m(lons,lats)\n",
    "\n",
    "m.plot(x,y,marker=\"D\",color='m')\n",
    "plt.show()"
   ],
   "outputs": [
    {
     "output_type": "stream",
     "name": "stdout",
     "text": [
      "[[[-79.62, 38.98], [-79.56, 38.97], [-79.54, 38.96], [-79.52, 38.93], [-79.48, 38.95], [-79.43, 38.95], [-79.42, 38.94], [-79.4, 38.94], [-79.36, 38.92], [-79.28, 38.91], [-79.22, 38.88], [-79.22, 38.83], [-79.26, 38.8], [-79.43, 38.8], [-79.45, 38.81], [-79.53, 38.9], [-79.61, 38.9], [-79.63, 38.91], [-79.64, 38.92], [-79.64, 38.97], [-79.62, 38.98]]]\n"
     ]
    },
    {
     "output_type": "display_data",
     "data": {
      "image/png": "[encoded data removed]",
      "text/plain": [
       "<Figure size 432x288 with 1 Axes>"
      ]
     },
     "metadata": {}
    }
   ],
   "metadata": {}
  },
  {
   "cell_type": "code",
   "execution_count": null,
   "source": [
    "# print(col.shape)"
   ],
   "outputs": [],
   "metadata": {}
  },
  {
   "cell_type": "code",
   "execution_count": null,
   "source": [
    "# page = pd.read_html(PROBSEVERE_URL+'?C=M;O=D')\n",
    "# page_data = np.array(*page)[2:-1]\n",
    "# data = pd.read_json(PROBSEVERE_URL+page_data[0][0])\n",
    "# # print(np.array(data))\n",
    "# return np.array(data)"
   ],
   "outputs": [],
   "metadata": {}
  },
  {
   "cell_type": "code",
   "execution_count": null,
   "source": [
    "def handle_collection(collection):\n",
    "    vt = collection[3]\n",
    "    feat = collection[-1]\n",
    "    return (vt, feat['geometry'],feat['properties'], feat['models']['probsevere']['LINE01'])\n",
    "\n",
    "for prob in col:\n",
    "    if int(handle_collection(prob)[2]['SIZE']) >150:\n",
    "        \n",
    "        vt, plygn, props, models = handle_collection(prob)\n",
    "        print(vt, plygn, props, models)\n",
    "        print(\"\")\n",
    "        \n",
    "    else:\n",
    "        pass\n",
    "        \n",
    "\n",
    "print(vt, plygn, props, models)\n"
   ],
   "outputs": [
    {
     "output_type": "error",
     "ename": "NameError",
     "evalue": "name 'col' is not defined",
     "traceback": [
      "\u001b[0;31m---------------------------------------------------------------------------\u001b[0m",
      "\u001b[0;31mNameError\u001b[0m                                 Traceback (most recent call last)",
      "\u001b[0;32m/tmp/ipykernel_27627/1033626239.py\u001b[0m in \u001b[0;36m<module>\u001b[0;34m\u001b[0m\n\u001b[1;32m      4\u001b[0m     \u001b[0;32mreturn\u001b[0m \u001b[0;34m(\u001b[0m\u001b[0mvt\u001b[0m\u001b[0;34m,\u001b[0m \u001b[0mfeat\u001b[0m\u001b[0;34m[\u001b[0m\u001b[0;34m'geometry'\u001b[0m\u001b[0;34m]\u001b[0m\u001b[0;34m,\u001b[0m\u001b[0mfeat\u001b[0m\u001b[0;34m[\u001b[0m\u001b[0;34m'properties'\u001b[0m\u001b[0;34m]\u001b[0m\u001b[0;34m,\u001b[0m \u001b[0mfeat\u001b[0m\u001b[0;34m[\u001b[0m\u001b[0;34m'models'\u001b[0m\u001b[0;34m]\u001b[0m\u001b[0;34m[\u001b[0m\u001b[0;34m'probsevere'\u001b[0m\u001b[0;34m]\u001b[0m\u001b[0;34m[\u001b[0m\u001b[0;34m'LINE01'\u001b[0m\u001b[0;34m]\u001b[0m\u001b[0;34m)\u001b[0m\u001b[0;34m\u001b[0m\u001b[0;34m\u001b[0m\u001b[0m\n\u001b[1;32m      5\u001b[0m \u001b[0;34m\u001b[0m\u001b[0m\n\u001b[0;32m----> 6\u001b[0;31m \u001b[0;32mfor\u001b[0m \u001b[0mprob\u001b[0m \u001b[0;32min\u001b[0m \u001b[0mcol\u001b[0m\u001b[0;34m:\u001b[0m\u001b[0;34m\u001b[0m\u001b[0;34m\u001b[0m\u001b[0m\n\u001b[0m\u001b[1;32m      7\u001b[0m     \u001b[0;32mif\u001b[0m \u001b[0mint\u001b[0m\u001b[0;34m(\u001b[0m\u001b[0mhandle_collection\u001b[0m\u001b[0;34m(\u001b[0m\u001b[0mprob\u001b[0m\u001b[0;34m)\u001b[0m\u001b[0;34m[\u001b[0m\u001b[0;36m2\u001b[0m\u001b[0;34m]\u001b[0m\u001b[0;34m[\u001b[0m\u001b[0;34m'SIZE'\u001b[0m\u001b[0;34m]\u001b[0m\u001b[0;34m)\u001b[0m \u001b[0;34m>\u001b[0m\u001b[0;36m150\u001b[0m\u001b[0;34m:\u001b[0m\u001b[0;34m\u001b[0m\u001b[0;34m\u001b[0m\u001b[0m\n\u001b[1;32m      8\u001b[0m \u001b[0;34m\u001b[0m\u001b[0m\n",
      "\u001b[0;31mNameError\u001b[0m: name 'col' is not defined"
     ]
    }
   ],
   "metadata": {}
  },
  {
   "cell_type": "code",
   "execution_count": null,
   "source": [
    "from mpl_toolkits.basemap import Basemap\n",
    "import numpy as np\n",
    "import matplotlib.pyplot as plt\n",
    "from matplotlib.patches import Polygon"
   ],
   "outputs": [],
   "metadata": {}
  },
  {
   "cell_type": "code",
   "execution_count": null,
   "source": [
    "crds=plygn['coordinates']\n",
    "x=props['MOTION_EAST']\n",
    "y=props['MOTION_SOUTH']\n",
    "m=props['MEANWIND_1-3kmAGL']\n",
    "#crds axis is rolled to restructre array\n",
    "lons,lats = np.rollaxis(np.array(crds),2,0)\n",
    "centroid = np.array([np.mean(lons),np.mean(lats)])\n",
    "\n",
    "print( lons, lats, centroid )"
   ],
   "outputs": [],
   "metadata": {}
  },
  {
   "cell_type": "code",
   "execution_count": null,
   "source": [
    "def scale_map(x):\n",
    "    llclat=lats.min()-x\n",
    "    urclat=lats.max()+x\n",
    "    urclon=lons.min()-x\n",
    "    llclon=lons.max()+x\n",
    "    return Basemap(projection='merc',llcrnrlat=llclat,urcrnrlat=urclat,\n",
    "                   llcrnrlon=urclon,urcrnrlon=llclon,lat_ts=20,resolution='c') \n",
    "\n",
    "\n",
    "plt.figure(dpi=150)\n",
    "\n",
    "m = scale_map(.2)\n",
    "x,y = m(*lons,*lats) \n",
    "m.plot(x, y, marker=None,color='m')\n",
    "\n",
    "_x,_y = m(*centroid) \n",
    "m.plot(_x, _y, marker='D',color='b')\n",
    "\n",
    "plt.show()"
   ],
   "outputs": [],
   "metadata": {}
  },
  {
   "cell_type": "code",
   "execution_count": null,
   "source": [
    "llclat=lats.min()-.5\n",
    "urclat=lats.max()+.5\n",
    "urclon=lons.min()-.5\n",
    "llclon=lons.max()+.5\n",
    "\n",
    "def draw_screen_poly( lats, lons, m ):\n",
    "    x, y = m( *lons, *lats )\n",
    "    xy = zip(x,y)\n",
    "    poly = Polygon( list(xy), facecolor='red', alpha=1 )\n",
    "    plt.gca().add_patch(poly)\n",
    "\n",
    "\n",
    "plt.figure(dpi=150)\n",
    "\n",
    "m = Basemap(projection='merc',llcrnrlat=llclat,urcrnrlat=urclat,\\\n",
    "            llcrnrlon=urclon,urcrnrlon=llclon,lat_ts=20,resolution='c')\n",
    "\n",
    "m.drawcoastlines()\n",
    "m.drawmapboundary()\n",
    "draw_screen_poly( lats, lons, m )\n",
    "plt.show()"
   ],
   "outputs": [],
   "metadata": {}
  },
  {
   "cell_type": "code",
   "execution_count": null,
   "source": [
    "def draw_screen_poly( lats, lons, m):\n",
    "    x, y = m( lons, lats )\n",
    "    xy = zip(x,y)\n",
    "    poly = Polygon( xy, facecolor='red', alpha=0.4 )\n",
    "    plt.gca().add_patch(poly)\n"
   ],
   "outputs": [],
   "metadata": {}
  },
  {
   "cell_type": "code",
   "execution_count": null,
   "source": [
    "m = Basemap(projection='merc',llcrnrlat=10,urcrnrlat=55,\\\n",
    "            llcrnrlon=-160,urcrnrlon=-60,lat_ts=20,resolution='c')\n",
    "\n",
    "draw_screen_poly( lats, lons, m )\n",
    "\n",
    "# poly = Polygon( xy, facecolor='red', alpha=0.4 )\n",
    "\n",
    "\n",
    "m.drawcoastlines()\n",
    "m.drawcoastlines()\n",
    "# m.plot([34.06842105, -75.17473684])\n",
    "m.plot(20,15,'ro', markersize=10)\n",
    "plt.title('Basemap',color='blue')\n",
    "plt.show()"
   ],
   "outputs": [],
   "metadata": {}
  },
  {
   "cell_type": "code",
   "execution_count": null,
   "source": [
    "from mpl_toolkits.basemap import Basemap\n",
    "map = Basemap(projection='merc', lat_0=50, lon_0=4,\n",
    "    resolution = 'l', area_thresh = 0.1,\n",
    "    llcrnrlon=4, llcrnrlat=50,\n",
    "    urcrnrlon=40, urcrnrlat=60)\n",
    "\n",
    "# map.readshapefile('luthuania', 'any_name_you_like', drawbounds=True, linewidth=2, color='b')\n",
    "\n",
    "map.drawcoastlines(linewidth=0.15)\n",
    "map.drawcountries(linewidth=0.15)\n",
    "map.fillcontinents(color='brown',lake_color='white')\n",
    "map.drawmapboundary(fill_color='white')"
   ],
   "outputs": [],
   "metadata": {}
  },
  {
   "cell_type": "code",
   "execution_count": null,
   "source": [
    "import matplotlib.pyplot as plt\n",
    "# https://vlab.noaa.gov/web/wdtd/-/probsevere?selectedFolder=562123\n",
    "print(f'EW as x = {x} || NS as y {y}')\n",
    "plt.plot([x,y])\n",
    "plt.ylabel('North-South')\n",
    "plt.xlabel('East-West')\n",
    "plt.show()"
   ],
   "outputs": [],
   "metadata": {}
  },
  {
   "cell_type": "code",
   "execution_count": null,
   "source": [
    "print(f'mag {m} || MOTION EAST as X = {x} || MOTION WEST as y {y}')\n",
    "# Wind Vectors\n",
    "\n",
    "# Corfidi Vectors - The \"Corfidi Upshear\" vector is an estimate of net storm motion \n",
    "# for a \"backbuilding\" MCS, where the low-level storm inflow is subtracted from the \n",
    "# mean wind. The \"Corfidi Downshear\" vector is an estimate of net storm motion for a \n",
    "# \"forward propagating\" MCS where the low-level storm inflow is added to the mean wind. \n",
    "# Please refer to Corfidi, 2003 for more information.\n",
    "\n",
    "# Bunkers Storm Motion Vectors - The \"ID method\", also known as the \"Bunkers\" method, \n",
    "# was developed by Bunkers et al. (2000) as an estimate of supercell motion. The Bunkers \n",
    "# method is gallilean invariant, thus it does not depend on the orientation of the \n",
    "# ground-relative winds. The Bunkers motion provides results similar to the \n",
    "# \"30 degrees right and 75% of the mean wind speed\" estimates for typical southwest flow \n",
    "# regimes, while the Bunkers motion estimate offers substantial improvments over the 30R75 \n",
    "# technique in less common flow regimes (e.g., NW flow or SE flow associated with tropical cyclones). \n",
    "# Graphically, the Bunkers storm motion can be estimated by 1) plotting the shear vector from the 0-500 m \n",
    "# AGL mean wind to the 5500-6000 m AGL mean wind on a hodograph, 2) plotting the 0-6 km mean wind \n",
    "# (pressure weighted), and 3) drawing a vector (of 7.5 m s-1 magnitude) perpendicular to the \n",
    "# shear vector from the 0-6 km mean wind. \n",
    "# A perpendicular vector to the right represents the right (cyclonic in northern hemisphere) \n",
    "# supercell motion, and a left vector represents the left (anticyclonic in northern hemisphere) \n",
    "# supercell motion."
   ],
   "outputs": [],
   "metadata": {}
  },
  {
   "cell_type": "code",
   "execution_count": null,
   "source": [
    "plt.figure(dpi=150)\n",
    "# time = np.array([0,15,30,45,60])\n",
    "# azi = np.array([70 ,100 ,120, 150, 170])\n",
    "ax = plt.subplot(111, projection='polar')\n",
    "ax.plot(azi*np.pi/180, time, color='black', marker='D', markerfacecolor='limegreen')\n",
    "# ax.set_theta_zero_location('N')\n",
    "# ax.set_theta_direction(+1) # clockwise\n",
    "ax.grid(True)\n",
    "\n",
    "ax.set_ylabel('Time', color='crimson')\n",
    "ax.tick_params(axis='y', colors='crimson')\n",
    "\n",
    "plt.show()\n"
   ],
   "outputs": [],
   "metadata": {}
  },
  {
   "cell_type": "code",
   "execution_count": null,
   "source": [
    "\n",
    "M = np.array([[1,1],[-2,2],[4,-7]])\n",
    "\n",
    "rows,cols = M.T.shape\n",
    "\n",
    "#Get absolute maxes for axis ranges to center origin\n",
    "#This is optional\n",
    "maxes = 1.1*np.amax(abs(M), axis = 0)\n",
    "\n",
    "for i,l in enumerate(range(0,cols)):\n",
    "    xs = [0,M[i,0]]\n",
    "    ys = [0,M[i,1]]\n",
    "    plt.plot(xs,ys)\n",
    "\n",
    "plt.plot(0,0,'ok') #<-- plot a black point at the origin\n",
    "plt.axis('equal')  #<-- set the axes to the same scale\n",
    "plt.xlim([-maxes[0],maxes[0]]) #<-- set the x axis limits\n",
    "plt.ylim([-maxes[1],maxes[1]]) #<-- set the y axis limits\n",
    "plt.legend(['V'+str(i+1) for i in range(cols)]) #<-- give a legend\n",
    "plt.grid(b=True, which='major') #<-- plot grid lines\n",
    "\n",
    "plt.show()"
   ],
   "outputs": [],
   "metadata": {}
  }
 ],
 "metadata": {
  "kernelspec": {
   "name": "python3",
   "display_name": "Python 3.9.7 64-bit ('dev-env': conda)"
  },
  "language_info": {
   "codemirror_mode": {
    "name": "ipython",
    "version": 3
   },
   "file_extension": ".py",
   "mimetype": "text/x-python",
   "name": "python",
   "nbconvert_exporter": "python",
   "pygments_lexer": "ipython3",
   "version": "3.9.7"
  },
  "interpreter": {
   "hash": "fd097edc95e0747817b716cc0d43256a8d52954a4b555e8a86ba92e34941de84"
  }
 },
 "nbformat": 4,
 "nbformat_minor": 5
}